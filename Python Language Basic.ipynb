{
 "cells": [
  {
   "cell_type": "markdown",
   "id": "ca50d02a",
   "metadata": {},
   "source": [
    "# Python for Data Analysis by Wes Mckinney\n",
    "In this notebook based on Python for Data Analysis by Wes McKinney Book, we will try to implement all code example & clear the python concept with help of code.\n",
    "So, let's begin the journey!\n"
   ]
  },
  {
   "cell_type": "markdown",
   "id": "0c2d870c",
   "metadata": {},
   "source": [
    "## Chapter 1"
   ]
  },
  {
   "cell_type": "markdown",
   "id": "d999cec0",
   "metadata": {},
   "source": [
    "### python Language Basics and Jupyter Notebooks"
   ]
  },
  {
   "cell_type": "code",
   "execution_count": 1,
   "id": "9a524961",
   "metadata": {},
   "outputs": [
    {
     "name": "stdout",
     "output_type": "stream",
     "text": [
      "Hello, World!\n"
     ]
    }
   ],
   "source": [
    "print('Hello, World!')"
   ]
  },
  {
   "cell_type": "markdown",
   "id": "5b3c2b2d",
   "metadata": {},
   "source": [
    "### Introspection \n",
    "using a question mark (?) before or after a variable will display some general information."
   ]
  },
  {
   "cell_type": "code",
   "execution_count": 2,
   "id": "20a4fa0b",
   "metadata": {},
   "outputs": [],
   "source": [
    "b = [1,2,4]\n",
    "b?"
   ]
  },
  {
   "cell_type": "code",
   "execution_count": 3,
   "id": "7e591200",
   "metadata": {},
   "outputs": [],
   "source": [
    "print?"
   ]
  },
  {
   "cell_type": "markdown",
   "id": "3697fda0",
   "metadata": {},
   "source": [
    "##### docstring\n"
   ]
  },
  {
   "cell_type": "code",
   "execution_count": 8,
   "id": "4e957b96",
   "metadata": {},
   "outputs": [],
   "source": [
    "def add_numbers(a,b):\n",
    "    \"\"\"\n",
    "    this function will add two number\n",
    "    returns\n",
    "    -----------\n",
    "    the sum of Arguments\n",
    "    \"\"\"\n",
    "    return a+b"
   ]
  },
  {
   "cell_type": "code",
   "execution_count": 7,
   "id": "f4d2d937",
   "metadata": {},
   "outputs": [],
   "source": [
    "add_numbers?"
   ]
  },
  {
   "cell_type": "markdown",
   "id": "86656069",
   "metadata": {},
   "source": [
    "### python Language Basics\n",
    "\n",
    "#### Python use indentation, Not braces"
   ]
  },
  {
   "cell_type": "markdown",
   "id": "ccdcd42e",
   "metadata": {},
   "source": [
    "#### comments\n"
   ]
  },
  {
   "cell_type": "code",
   "execution_count": 10,
   "id": "78865083",
   "metadata": {},
   "outputs": [
    {
     "name": "stdout",
     "output_type": "stream",
     "text": [
      " reached to the end of line\n"
     ]
    }
   ],
   "source": [
    "print (' reached to the end of line') # sunoke statys report"
   ]
  },
  {
   "cell_type": "markdown",
   "id": "494470d8",
   "metadata": {},
   "source": [
    "#### object referencing"
   ]
  },
  {
   "cell_type": "code",
   "execution_count": 11,
   "id": "4ec5e041",
   "metadata": {},
   "outputs": [],
   "source": [
    "a = [1,2,3]"
   ]
  },
  {
   "cell_type": "code",
   "execution_count": 12,
   "id": "982f0a19",
   "metadata": {},
   "outputs": [],
   "source": [
    "b = a"
   ]
  },
  {
   "cell_type": "code",
   "execution_count": 13,
   "id": "29fbb826",
   "metadata": {},
   "outputs": [
    {
     "data": {
      "text/plain": [
       "[1, 2, 3]"
      ]
     },
     "execution_count": 13,
     "metadata": {},
     "output_type": "execute_result"
    }
   ],
   "source": [
    "b"
   ]
  },
  {
   "cell_type": "code",
   "execution_count": 14,
   "id": "7e4348fe",
   "metadata": {},
   "outputs": [
    {
     "data": {
      "text/plain": [
       "[1, 2, 3]"
      ]
     },
     "execution_count": 14,
     "metadata": {},
     "output_type": "execute_result"
    }
   ],
   "source": [
    "a"
   ]
  },
  {
   "cell_type": "code",
   "execution_count": 15,
   "id": "bbea460f",
   "metadata": {},
   "outputs": [],
   "source": [
    "a.append(5)"
   ]
  },
  {
   "cell_type": "code",
   "execution_count": 16,
   "id": "fea90342",
   "metadata": {},
   "outputs": [
    {
     "data": {
      "text/plain": [
       "[1, 2, 3, 5]"
      ]
     },
     "execution_count": 16,
     "metadata": {},
     "output_type": "execute_result"
    }
   ],
   "source": [
    "a"
   ]
  },
  {
   "cell_type": "code",
   "execution_count": 17,
   "id": "7ab0fcd0",
   "metadata": {},
   "outputs": [
    {
     "data": {
      "text/plain": [
       "[1, 2, 3, 5]"
      ]
     },
     "execution_count": 17,
     "metadata": {},
     "output_type": "execute_result"
    }
   ],
   "source": [
    "b"
   ]
  },
  {
   "cell_type": "markdown",
   "id": "7040ce3f",
   "metadata": {},
   "source": [
    "#### Dynamic References, strong types\n"
   ]
  },
  {
   "cell_type": "code",
   "execution_count": 18,
   "id": "c2683777",
   "metadata": {},
   "outputs": [],
   "source": [
    "a = 5"
   ]
  },
  {
   "cell_type": "code",
   "execution_count": 19,
   "id": "89e59fd5",
   "metadata": {},
   "outputs": [
    {
     "data": {
      "text/plain": [
       "int"
      ]
     },
     "execution_count": 19,
     "metadata": {},
     "output_type": "execute_result"
    }
   ],
   "source": [
    "type(a)"
   ]
  },
  {
   "cell_type": "code",
   "execution_count": 20,
   "id": "98a9d863",
   "metadata": {},
   "outputs": [],
   "source": [
    "a = 'foo'"
   ]
  },
  {
   "cell_type": "code",
   "execution_count": 21,
   "id": "1e2567d3",
   "metadata": {},
   "outputs": [
    {
     "data": {
      "text/plain": [
       "str"
      ]
     },
     "execution_count": 21,
     "metadata": {},
     "output_type": "execute_result"
    }
   ],
   "source": [
    "type(a)"
   ]
  },
  {
   "cell_type": "markdown",
   "id": "a6a4d8b6",
   "metadata": {},
   "source": [
    "python is typed language, check below code"
   ]
  },
  {
   "cell_type": "code",
   "execution_count": 22,
   "id": "02bb8ca0",
   "metadata": {},
   "outputs": [
    {
     "ename": "TypeError",
     "evalue": "can only concatenate str (not \"int\") to str",
     "output_type": "error",
     "traceback": [
      "\u001b[1;31m---------------------------------------------------------------------------\u001b[0m",
      "\u001b[1;31mTypeError\u001b[0m                                 Traceback (most recent call last)",
      "Cell \u001b[1;32mIn[22], line 1\u001b[0m\n\u001b[1;32m----> 1\u001b[0m \u001b[38;5;124m'\u001b[39m\u001b[38;5;124m5\u001b[39m\u001b[38;5;124m'\u001b[39m \u001b[38;5;241m+\u001b[39m \u001b[38;5;241m5\u001b[39m\n",
      "\u001b[1;31mTypeError\u001b[0m: can only concatenate str (not \"int\") to str"
     ]
    }
   ],
   "source": [
    "'5' + 5"
   ]
  },
  {
   "cell_type": "code",
   "execution_count": 23,
   "id": "b472079e",
   "metadata": {},
   "outputs": [],
   "source": [
    "a = 8"
   ]
  },
  {
   "cell_type": "code",
   "execution_count": 24,
   "id": "6c03fa48",
   "metadata": {},
   "outputs": [
    {
     "data": {
      "text/plain": [
       "True"
      ]
     },
     "execution_count": 24,
     "metadata": {},
     "output_type": "execute_result"
    }
   ],
   "source": [
    "isinstance(a, int)"
   ]
  },
  {
   "cell_type": "code",
   "execution_count": 25,
   "id": "f58b7dce",
   "metadata": {},
   "outputs": [
    {
     "data": {
      "text/plain": [
       "False"
      ]
     },
     "execution_count": 25,
     "metadata": {},
     "output_type": "execute_result"
    }
   ],
   "source": [
    "isinstance(a,str)"
   ]
  },
  {
   "cell_type": "markdown",
   "id": "6f08f85e",
   "metadata": {},
   "source": [
    "#### imports\n",
    "import is use to call code external module code"
   ]
  },
  {
   "cell_type": "code",
   "execution_count": 26,
   "id": "196549b4",
   "metadata": {},
   "outputs": [],
   "source": [
    "import pi_module as pi_m"
   ]
  },
  {
   "cell_type": "code",
   "execution_count": 27,
   "id": "1659c503",
   "metadata": {},
   "outputs": [],
   "source": [
    "result = pi_m.f(2)"
   ]
  },
  {
   "cell_type": "code",
   "execution_count": 28,
   "id": "9bc955ef",
   "metadata": {},
   "outputs": [
    {
     "data": {
      "text/plain": [
       "4"
      ]
     },
     "execution_count": 28,
     "metadata": {},
     "output_type": "execute_result"
    }
   ],
   "source": [
    "result"
   ]
  },
  {
   "cell_type": "code",
   "execution_count": 30,
   "id": "c3a27396",
   "metadata": {},
   "outputs": [],
   "source": [
    "from pi_module import PI, f"
   ]
  },
  {
   "cell_type": "code",
   "execution_count": 31,
   "id": "d7224c37",
   "metadata": {},
   "outputs": [
    {
     "name": "stdout",
     "output_type": "stream",
     "text": [
      "47\n"
     ]
    }
   ],
   "source": [
    "print(f(45))"
   ]
  },
  {
   "cell_type": "markdown",
   "id": "2aa9fe03",
   "metadata": {},
   "source": [
    "#### Binary Operators and comparisons"
   ]
  },
  {
   "cell_type": "code",
   "execution_count": 32,
   "id": "9b3c32db",
   "metadata": {},
   "outputs": [],
   "source": [
    "a = 5\n",
    "b = 10"
   ]
  },
  {
   "cell_type": "code",
   "execution_count": 46,
   "id": "1b982717",
   "metadata": {},
   "outputs": [
    {
     "name": "stdout",
     "output_type": "stream",
     "text": [
      "15\n",
      "-5\n",
      "50\n",
      "0.5\n",
      "0\n",
      "9765625\n",
      "False\n",
      "5\n",
      "False\n",
      "True\n",
      "False\n",
      "True\n"
     ]
    }
   ],
   "source": [
    "print(a+b)\n",
    "print(a-b)\n",
    "print(a*b)\n",
    "print(a/b)\n",
    "print(a//b)\n",
    "print(a**b)\n",
    "print((a>b) & (3<b))\n",
    "print(a or b)\n",
    "print(a==b)\n",
    "print(a!=b)\n",
    "print(a is b) # checking ref, is both veriable referencing to same object.\n",
    "print(a is not b)"
   ]
  },
  {
   "cell_type": "markdown",
   "id": "95c0161a",
   "metadata": {},
   "source": [
    "### Mutable and immutable Objects"
   ]
  },
  {
   "cell_type": "markdown",
   "id": "1ac20b86",
   "metadata": {},
   "source": [
    "Many objects in Python, such as Lists, dictionaries, Numpy arrays, and more defined types (classes), are mutable. this mean that the object or values that contain can be modified."
   ]
  },
  {
   "cell_type": "code",
   "execution_count": 47,
   "id": "13a45d8b",
   "metadata": {},
   "outputs": [],
   "source": [
    "a_list = ['apple', 120, [3,4]]"
   ]
  },
  {
   "cell_type": "code",
   "execution_count": 48,
   "id": "6b7323ee",
   "metadata": {},
   "outputs": [
    {
     "data": {
      "text/plain": [
       "['apple', 120, [3, 4]]"
      ]
     },
     "execution_count": 48,
     "metadata": {},
     "output_type": "execute_result"
    }
   ],
   "source": [
    "a_list"
   ]
  },
  {
   "cell_type": "code",
   "execution_count": 49,
   "id": "8c080b14",
   "metadata": {},
   "outputs": [],
   "source": [
    "a_list[2] = (5,10)"
   ]
  },
  {
   "cell_type": "code",
   "execution_count": 50,
   "id": "ac9b93fc",
   "metadata": {},
   "outputs": [
    {
     "data": {
      "text/plain": [
       "['apple', 120, (5, 10)]"
      ]
     },
     "execution_count": 50,
     "metadata": {},
     "output_type": "execute_result"
    }
   ],
   "source": [
    "a_list"
   ]
  },
  {
   "cell_type": "markdown",
   "id": "5c739ce9",
   "metadata": {},
   "source": [
    "others, like strings and tuples, are immutable, which means their internal data cannot be changed."
   ]
  },
  {
   "cell_type": "code",
   "execution_count": 51,
   "id": "6ca09dda",
   "metadata": {},
   "outputs": [],
   "source": [
    "a_tuple = (2,3, (3,4))"
   ]
  },
  {
   "cell_type": "code",
   "execution_count": 52,
   "id": "d8628fc0",
   "metadata": {},
   "outputs": [
    {
     "ename": "TypeError",
     "evalue": "'tuple' object does not support item assignment",
     "output_type": "error",
     "traceback": [
      "\u001b[1;31m---------------------------------------------------------------------------\u001b[0m",
      "\u001b[1;31mTypeError\u001b[0m                                 Traceback (most recent call last)",
      "Cell \u001b[1;32mIn[52], line 1\u001b[0m\n\u001b[1;32m----> 1\u001b[0m a_tuple [\u001b[38;5;241m1\u001b[39m] \u001b[38;5;241m=\u001b[39m \u001b[38;5;124m\"\u001b[39m\u001b[38;5;124ma\u001b[39m\u001b[38;5;124m\"\u001b[39m\n",
      "\u001b[1;31mTypeError\u001b[0m: 'tuple' object does not support item assignment"
     ]
    }
   ],
   "source": [
    "a_tuple [1] = \"a\""
   ]
  },
  {
   "cell_type": "code",
   "execution_count": 53,
   "id": "7541819a",
   "metadata": {},
   "outputs": [],
   "source": [
    "a_string = 'ali'"
   ]
  },
  {
   "cell_type": "code",
   "execution_count": 54,
   "id": "6bff4b74",
   "metadata": {},
   "outputs": [
    {
     "ename": "TypeError",
     "evalue": "'str' object does not support item assignment",
     "output_type": "error",
     "traceback": [
      "\u001b[1;31m---------------------------------------------------------------------------\u001b[0m",
      "\u001b[1;31mTypeError\u001b[0m                                 Traceback (most recent call last)",
      "Cell \u001b[1;32mIn[54], line 1\u001b[0m\n\u001b[1;32m----> 1\u001b[0m a_string[\u001b[38;5;241m2\u001b[39m] \u001b[38;5;241m=\u001b[39m \u001b[38;5;124m'\u001b[39m\u001b[38;5;124me\u001b[39m\u001b[38;5;124m'\u001b[39m\n",
      "\u001b[1;31mTypeError\u001b[0m: 'str' object does not support item assignment"
     ]
    }
   ],
   "source": [
    "a_string[2] = 'e'"
   ]
  },
  {
   "cell_type": "markdown",
   "id": "e6dc17e2",
   "metadata": {},
   "source": [
    "### Scalar Types"
   ]
  },
  {
   "cell_type": "code",
   "execution_count": 55,
   "id": "2e20830e",
   "metadata": {},
   "outputs": [],
   "source": [
    "ival = 34"
   ]
  },
  {
   "cell_type": "code",
   "execution_count": 56,
   "id": "8f5a4148",
   "metadata": {},
   "outputs": [],
   "source": [
    "ival = 34**6"
   ]
  },
  {
   "cell_type": "code",
   "execution_count": 57,
   "id": "662ccd8f",
   "metadata": {},
   "outputs": [
    {
     "data": {
      "text/plain": [
       "1544804416"
      ]
     },
     "execution_count": 57,
     "metadata": {},
     "output_type": "execute_result"
    }
   ],
   "source": [
    "ival"
   ]
  },
  {
   "cell_type": "code",
   "execution_count": 58,
   "id": "dec0c3a2",
   "metadata": {},
   "outputs": [],
   "source": [
    "a = 'one way of writting a string'\n",
    "b = \"another way\""
   ]
  },
  {
   "cell_type": "code",
   "execution_count": 59,
   "id": "d972dda6",
   "metadata": {},
   "outputs": [
    {
     "data": {
      "text/plain": [
       "'another way'"
      ]
     },
     "execution_count": 59,
     "metadata": {},
     "output_type": "execute_result"
    }
   ],
   "source": [
    "a\n",
    "b"
   ]
  },
  {
   "cell_type": "code",
   "execution_count": 70,
   "id": "eae806ae",
   "metadata": {},
   "outputs": [],
   "source": [
    "c =\"\"\"\n",
    "this is a longer string that\n",
    "spans multiple lines\n",
    "\"\"\""
   ]
  },
  {
   "cell_type": "code",
   "execution_count": 72,
   "id": "34c3a212",
   "metadata": {},
   "outputs": [
    {
     "data": {
      "text/plain": [
       "'\\nthis is a longer string that\\nspans multiple lines\\n'"
      ]
     },
     "execution_count": 72,
     "metadata": {},
     "output_type": "execute_result"
    }
   ],
   "source": [
    "c"
   ]
  },
  {
   "cell_type": "code",
   "execution_count": 63,
   "id": "ae58c9ed",
   "metadata": {},
   "outputs": [
    {
     "name": "stdout",
     "output_type": "stream",
     "text": [
      "\n",
      "this is a longer sting that\n",
      "spans multiple lines\n",
      "\n"
     ]
    }
   ],
   "source": [
    "print(c)"
   ]
  },
  {
   "cell_type": "code",
   "execution_count": 73,
   "id": "7a91fdb6",
   "metadata": {},
   "outputs": [],
   "source": [
    "d = c.replace('longer string', 'very long string')"
   ]
  },
  {
   "cell_type": "code",
   "execution_count": 74,
   "id": "19f6c1eb",
   "metadata": {},
   "outputs": [
    {
     "name": "stdout",
     "output_type": "stream",
     "text": [
      "\n",
      "this is a longer string that\n",
      "spans multiple lines\n",
      "\n"
     ]
    }
   ],
   "source": [
    "print(c)"
   ]
  },
  {
   "cell_type": "code",
   "execution_count": 75,
   "id": "ea3ab55e",
   "metadata": {},
   "outputs": [
    {
     "name": "stdout",
     "output_type": "stream",
     "text": [
      "\n",
      "this is a very long string that\n",
      "spans multiple lines\n",
      "\n"
     ]
    }
   ],
   "source": [
    "print(d)"
   ]
  },
  {
   "cell_type": "code",
   "execution_count": 76,
   "id": "293c2282",
   "metadata": {},
   "outputs": [],
   "source": [
    "s = 'python'"
   ]
  },
  {
   "cell_type": "code",
   "execution_count": 77,
   "id": "5d87d8eb",
   "metadata": {},
   "outputs": [
    {
     "data": {
      "text/plain": [
       "['p', 'y', 't', 'h', 'o', 'n']"
      ]
     },
     "execution_count": 77,
     "metadata": {},
     "output_type": "execute_result"
    }
   ],
   "source": [
    "list(s)"
   ]
  },
  {
   "cell_type": "code",
   "execution_count": 78,
   "id": "a8b255b3",
   "metadata": {},
   "outputs": [
    {
     "data": {
      "text/plain": [
       "'pyt'"
      ]
     },
     "execution_count": 78,
     "metadata": {},
     "output_type": "execute_result"
    }
   ],
   "source": [
    "s[:3]"
   ]
  },
  {
   "cell_type": "code",
   "execution_count": 80,
   "id": "9c20c387",
   "metadata": {},
   "outputs": [],
   "source": [
    "s = \"4\\3\" "
   ]
  },
  {
   "cell_type": "code",
   "execution_count": 81,
   "id": "25cc88d8",
   "metadata": {},
   "outputs": [
    {
     "name": "stdout",
     "output_type": "stream",
     "text": [
      "4\u0003\n"
     ]
    }
   ],
   "source": [
    "print(s)"
   ]
  },
  {
   "cell_type": "code",
   "execution_count": 84,
   "id": "61419631",
   "metadata": {},
   "outputs": [],
   "source": [
    "s = \"4\\\\3\""
   ]
  },
  {
   "cell_type": "code",
   "execution_count": 85,
   "id": "df4c9099",
   "metadata": {},
   "outputs": [
    {
     "name": "stdout",
     "output_type": "stream",
     "text": [
      "4\\3\n"
     ]
    }
   ],
   "source": [
    "print(s)"
   ]
  },
  {
   "cell_type": "code",
   "execution_count": 86,
   "id": "3a9a4062",
   "metadata": {},
   "outputs": [],
   "source": [
    "s = r\"pakist\\c\\dictory.com\\pk\""
   ]
  },
  {
   "cell_type": "code",
   "execution_count": 87,
   "id": "b651c479",
   "metadata": {},
   "outputs": [
    {
     "name": "stdout",
     "output_type": "stream",
     "text": [
      "pakist\\c\\dictory.com\\pk\n"
     ]
    }
   ],
   "source": [
    "print(s)"
   ]
  },
  {
   "cell_type": "code",
   "execution_count": 88,
   "id": "b00aea6f",
   "metadata": {},
   "outputs": [],
   "source": [
    "a = \"string 1\"\n",
    "b = \"string 2\""
   ]
  },
  {
   "cell_type": "code",
   "execution_count": 89,
   "id": "e7560d6d",
   "metadata": {},
   "outputs": [],
   "source": [
    "c = a+b"
   ]
  },
  {
   "cell_type": "code",
   "execution_count": 90,
   "id": "7418cab5",
   "metadata": {},
   "outputs": [
    {
     "data": {
      "text/plain": [
       "'string 1string 2'"
      ]
     },
     "execution_count": 90,
     "metadata": {},
     "output_type": "execute_result"
    }
   ],
   "source": [
    "c"
   ]
  },
  {
   "cell_type": "code",
   "execution_count": 91,
   "id": "9bc8b3ec",
   "metadata": {},
   "outputs": [],
   "source": [
    "template = \"{0: 2f} {1:s} are worth US${2:d}\""
   ]
  },
  {
   "cell_type": "code",
   "execution_count": 92,
   "id": "d0228851",
   "metadata": {},
   "outputs": [
    {
     "data": {
      "text/plain": [
       "'{0: 2f} {1:s} are worth US${2:d}'"
      ]
     },
     "execution_count": 92,
     "metadata": {},
     "output_type": "execute_result"
    }
   ],
   "source": [
    "template"
   ]
  },
  {
   "cell_type": "code",
   "execution_count": 93,
   "id": "18a712fd",
   "metadata": {},
   "outputs": [
    {
     "data": {
      "text/plain": [
       "' 89.020000 Argentine Pesos are worth US$1'"
      ]
     },
     "execution_count": 93,
     "metadata": {},
     "output_type": "execute_result"
    }
   ],
   "source": [
    "template.format(89.02, \"Argentine Pesos\", 1)"
   ]
  },
  {
   "cell_type": "code",
   "execution_count": 99,
   "id": "2d3805fc",
   "metadata": {},
   "outputs": [],
   "source": [
    "amount = 100\n",
    "rate = 88.46\n",
    "currency = \"Pesos\"\n",
    "\n",
    "result = f\"{amount} {currency} is worth US${amount/rate:.2f}\""
   ]
  },
  {
   "cell_type": "code",
   "execution_count": 100,
   "id": "4a9ca3a5",
   "metadata": {},
   "outputs": [
    {
     "data": {
      "text/plain": [
       "'100 Pesos is worth US$1.13'"
      ]
     },
     "execution_count": 100,
     "metadata": {},
     "output_type": "execute_result"
    }
   ],
   "source": [
    "result"
   ]
  },
  {
   "cell_type": "markdown",
   "id": "9e134585",
   "metadata": {},
   "source": [
    "#### Bytes & Unicode"
   ]
  },
  {
   "cell_type": "code",
   "execution_count": 101,
   "id": "ad6c5fe9",
   "metadata": {},
   "outputs": [],
   "source": [
    " val = 'Hangu'"
   ]
  },
  {
   "cell_type": "code",
   "execution_count": 102,
   "id": "fc730666",
   "metadata": {},
   "outputs": [
    {
     "data": {
      "text/plain": [
       "'Hangu'"
      ]
     },
     "execution_count": 102,
     "metadata": {},
     "output_type": "execute_result"
    }
   ],
   "source": [
    "val"
   ]
  },
  {
   "cell_type": "code",
   "execution_count": 103,
   "id": "9596e688",
   "metadata": {},
   "outputs": [],
   "source": [
    "val_utf8 = val.encode(\"utf-8\")"
   ]
  },
  {
   "cell_type": "code",
   "execution_count": 104,
   "id": "b8af7a94",
   "metadata": {},
   "outputs": [
    {
     "data": {
      "text/plain": [
       "b'Hangu'"
      ]
     },
     "execution_count": 104,
     "metadata": {},
     "output_type": "execute_result"
    }
   ],
   "source": [
    "val_utf8"
   ]
  },
  {
   "cell_type": "code",
   "execution_count": 105,
   "id": "3d5abb94",
   "metadata": {},
   "outputs": [
    {
     "data": {
      "text/plain": [
       "bytes"
      ]
     },
     "execution_count": 105,
     "metadata": {},
     "output_type": "execute_result"
    }
   ],
   "source": [
    "type(val_utf8)"
   ]
  },
  {
   "cell_type": "code",
   "execution_count": 106,
   "id": "d11a6a39",
   "metadata": {},
   "outputs": [
    {
     "data": {
      "text/plain": [
       "'Hangu'"
      ]
     },
     "execution_count": 106,
     "metadata": {},
     "output_type": "execute_result"
    }
   ],
   "source": [
    "val_utf8.decode('utf-8')"
   ]
  },
  {
   "cell_type": "markdown",
   "id": "fac9f83c",
   "metadata": {},
   "source": [
    "#### booleans"
   ]
  },
  {
   "cell_type": "code",
   "execution_count": 107,
   "id": "19dc2566",
   "metadata": {},
   "outputs": [
    {
     "data": {
      "text/plain": [
       "True"
      ]
     },
     "execution_count": 107,
     "metadata": {},
     "output_type": "execute_result"
    }
   ],
   "source": [
    "True and True"
   ]
  },
  {
   "cell_type": "code",
   "execution_count": 108,
   "id": "789d5a68",
   "metadata": {},
   "outputs": [
    {
     "data": {
      "text/plain": [
       "True"
      ]
     },
     "execution_count": 108,
     "metadata": {},
     "output_type": "execute_result"
    }
   ],
   "source": [
    "False or True"
   ]
  },
  {
   "cell_type": "code",
   "execution_count": 110,
   "id": "429c2c7c",
   "metadata": {},
   "outputs": [
    {
     "data": {
      "text/plain": [
       "0"
      ]
     },
     "execution_count": 110,
     "metadata": {},
     "output_type": "execute_result"
    }
   ],
   "source": [
    "int(False)"
   ]
  },
  {
   "cell_type": "code",
   "execution_count": 111,
   "id": "0ff27cb5",
   "metadata": {},
   "outputs": [
    {
     "data": {
      "text/plain": [
       "1"
      ]
     },
     "execution_count": 111,
     "metadata": {},
     "output_type": "execute_result"
    }
   ],
   "source": [
    "int(True)"
   ]
  },
  {
   "cell_type": "markdown",
   "id": "cd03789f",
   "metadata": {},
   "source": [
    "#### type casting"
   ]
  },
  {
   "cell_type": "code",
   "execution_count": 112,
   "id": "5d72f4f3",
   "metadata": {},
   "outputs": [],
   "source": [
    "s = '3.4232'"
   ]
  },
  {
   "cell_type": "code",
   "execution_count": 113,
   "id": "60f80001",
   "metadata": {},
   "outputs": [],
   "source": [
    "fval = float(s)"
   ]
  },
  {
   "cell_type": "code",
   "execution_count": 114,
   "id": "1bb7a279",
   "metadata": {},
   "outputs": [
    {
     "data": {
      "text/plain": [
       "3.4232"
      ]
     },
     "execution_count": 114,
     "metadata": {},
     "output_type": "execute_result"
    }
   ],
   "source": [
    "fval"
   ]
  },
  {
   "cell_type": "code",
   "execution_count": 115,
   "id": "c699d16b",
   "metadata": {},
   "outputs": [
    {
     "data": {
      "text/plain": [
       "str"
      ]
     },
     "execution_count": 115,
     "metadata": {},
     "output_type": "execute_result"
    }
   ],
   "source": [
    "type(s)"
   ]
  },
  {
   "cell_type": "code",
   "execution_count": 116,
   "id": "4676c550",
   "metadata": {},
   "outputs": [
    {
     "data": {
      "text/plain": [
       "float"
      ]
     },
     "execution_count": 116,
     "metadata": {},
     "output_type": "execute_result"
    }
   ],
   "source": [
    "type(fval)"
   ]
  },
  {
   "cell_type": "code",
   "execution_count": 117,
   "id": "8a2a1c0d",
   "metadata": {},
   "outputs": [],
   "source": [
    "a = None"
   ]
  },
  {
   "cell_type": "code",
   "execution_count": 120,
   "id": "463f1b3c",
   "metadata": {},
   "outputs": [
    {
     "name": "stdout",
     "output_type": "stream",
     "text": [
      "None\n"
     ]
    }
   ],
   "source": [
    "print(a)"
   ]
  },
  {
   "cell_type": "code",
   "execution_count": 121,
   "id": "e7b4cef1",
   "metadata": {},
   "outputs": [
    {
     "data": {
      "text/plain": [
       "True"
      ]
     },
     "execution_count": 121,
     "metadata": {},
     "output_type": "execute_result"
    }
   ],
   "source": [
    "a is None"
   ]
  },
  {
   "cell_type": "code",
   "execution_count": 122,
   "id": "4a159eff",
   "metadata": {},
   "outputs": [
    {
     "data": {
      "text/plain": [
       "True"
      ]
     },
     "execution_count": 122,
     "metadata": {},
     "output_type": "execute_result"
    }
   ],
   "source": [
    "b = 5\n",
    "b is not None"
   ]
  },
  {
   "cell_type": "code",
   "execution_count": null,
   "id": "770a2cdf",
   "metadata": {},
   "outputs": [],
   "source": []
  }
 ],
 "metadata": {
  "kernelspec": {
   "display_name": "Python 3 (ipykernel)",
   "language": "python",
   "name": "python3"
  },
  "language_info": {
   "codemirror_mode": {
    "name": "ipython",
    "version": 3
   },
   "file_extension": ".py",
   "mimetype": "text/x-python",
   "name": "python",
   "nbconvert_exporter": "python",
   "pygments_lexer": "ipython3",
   "version": "3.11.5"
  }
 },
 "nbformat": 4,
 "nbformat_minor": 5
}
